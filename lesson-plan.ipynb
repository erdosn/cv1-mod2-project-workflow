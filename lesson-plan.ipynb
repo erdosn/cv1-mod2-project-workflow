{
 "cells": [
  {
   "cell_type": "markdown",
   "metadata": {},
   "source": [
    "### Questions"
   ]
  },
  {
   "cell_type": "markdown",
   "metadata": {},
   "source": [
    "### Objectives\n",
    "YWBAT \n",
    "* apply best practices for hypothesis testing on data"
   ]
  },
  {
   "cell_type": "markdown",
   "metadata": {},
   "source": [
    "### Outline"
   ]
  },
  {
   "cell_type": "code",
   "execution_count": 1,
   "metadata": {},
   "outputs": [],
   "source": [
    "import pandas as pd\n",
    "import numpy as np\n",
    "\n",
    "import scipy.stats as scs\n",
    "import statsmodels.api as sm\n",
    "\n",
    "import matplotlib.pyplot as plt"
   ]
  },
  {
   "cell_type": "code",
   "execution_count": 2,
   "metadata": {},
   "outputs": [],
   "source": [
    "# How do I setup a hypothesis test? \n",
    " \n",
    "pop1 = np.random.normal(loc=np.random.randint(5, 8), scale=np.random.randint(2, 3), size=300)\n",
    "pop2 = np.random.normal(loc=np.random.randint(5, 8), scale=np.random.randint(2, 3), size=300)\n",
    "pop3 = np.random.normal(loc=np.random.randint(5, 10), scale=np.random.randint(5, 8), size=300)"
   ]
  },
  {
   "cell_type": "markdown",
   "metadata": {},
   "source": [
    "### Workflow\n",
    "* **State A Question - Not the Same as a Hypothesis**\n",
    "    * Do discounts have a statistically significant on the amount of products purchased\n",
    "* **Split up your populations**\n",
    "    * Scenario A: Split up population by discount amount\n",
    "    * Scenario B: Split up discount vs no discount\n",
    "    * Scenario C: Split up discounts under 10%, discounts = 15%, discounts over 15%\n",
    "* **Form your hypothesis**\n",
    "    * Scenario A:\n",
    "        * H0: $\\mu_1 = \\mu_2 = ... = \\mu_k$\n",
    "        * HA: $\\mu_1 \\neq \\mu_2 \\neq \\mu_3 ... \\neq \\mu_k$l\n",
    "    * Scenario B:\n",
    "        * H0: $\\mu_1 = \\mu_2$ \n",
    "        * HA: $\\mu_1 \\neq \\mu_2$\n",
    "    * Scenario C:\n",
    "        * H0: $\\mu_1 = \\mu_2 = ... = \\mu_k$\n",
    "        * HA: $\\mu_1 \\neq \\mu_2 \\neq \\mu_3 ... \\neq \\mu_k$\n",
    "* **Investigate/EDA**\n",
    "* **Determine which Test to Use**\n",
    "    * A good sample size is around 30\n",
    "    * Test Normality: **Shapiro Test**\n",
    "    * Test Equal Variance: \n",
    "        * 2 populations **Levene Test**\n",
    "        * 2+ populations **Bartlett Test**\n",
    "        \n",
    "    * Scenario A:\n",
    "        * ANOVA\n",
    "            * check for normality\n",
    "            * check for equal variances\n",
    "            * Anova just says 1 thing is different\n",
    "        * Tukey\n",
    "            * Pairwise comparisons\n",
    "    * Scenario B:\n",
    "        * 2samplettest\n",
    "            * Welch's\n",
    "                * nonequal variance\n",
    "                * normally distributed population\n",
    "                * Use when sample size isn't the same\n",
    "            * Not Welch's\n",
    "                * equal variance\n",
    "                * normally distributed population\n",
    "                * sample sizes have to be similar\n",
    "            * 2 tailed\n",
    "    * Scenario C:\n",
    "        * ANOVA\n",
    "            * check for normality\n",
    "            * check for equal variances \n",
    "            * Anova just says 1 thing is different\n",
    "        * Tukey\n",
    "            * Pairwise comparisons\n",
    "* **Run Your Test**\n",
    "* **Interpret Results**\n",
    "* **Business Recommendations**\n",
    "* **Possibly investigate further, if not suggest further work**"
   ]
  },
  {
   "cell_type": "code",
   "execution_count": 3,
   "metadata": {},
   "outputs": [
    {
     "name": "stdout",
     "output_type": "stream",
     "text": [
      "p = 0.8546062707901001\n",
      "p = 0.9203234314918518\n",
      "p = 0.30944395065307617\n"
     ]
    }
   ],
   "source": [
    "# Run Shapiro Test (Test for Normality on our pops)\n",
    "for pop in [pop1, pop2, pop3]:\n",
    "    w, p = scs.shapiro(pop)\n",
    "    print(\"p = {}\".format(p))"
   ]
  },
  {
   "cell_type": "code",
   "execution_count": 4,
   "metadata": {},
   "outputs": [],
   "source": [
    "arr = [[p, 1] for p in pop1]\n",
    "arr.extend([[p, 2] for p in pop2])\n",
    "arr.extend([[p, 3] for p in pop2])"
   ]
  },
  {
   "cell_type": "code",
   "execution_count": 5,
   "metadata": {},
   "outputs": [
    {
     "data": {
      "text/html": [
       "<div>\n",
       "<style scoped>\n",
       "    .dataframe tbody tr th:only-of-type {\n",
       "        vertical-align: middle;\n",
       "    }\n",
       "\n",
       "    .dataframe tbody tr th {\n",
       "        vertical-align: top;\n",
       "    }\n",
       "\n",
       "    .dataframe thead th {\n",
       "        text-align: right;\n",
       "    }\n",
       "</style>\n",
       "<table border=\"1\" class=\"dataframe\">\n",
       "  <thead>\n",
       "    <tr style=\"text-align: right;\">\n",
       "      <th></th>\n",
       "      <th>num</th>\n",
       "      <th>group</th>\n",
       "    </tr>\n",
       "  </thead>\n",
       "  <tbody>\n",
       "    <tr>\n",
       "      <th>0</th>\n",
       "      <td>3.791373</td>\n",
       "      <td>1</td>\n",
       "    </tr>\n",
       "    <tr>\n",
       "      <th>1</th>\n",
       "      <td>6.695849</td>\n",
       "      <td>1</td>\n",
       "    </tr>\n",
       "    <tr>\n",
       "      <th>2</th>\n",
       "      <td>8.380088</td>\n",
       "      <td>1</td>\n",
       "    </tr>\n",
       "    <tr>\n",
       "      <th>3</th>\n",
       "      <td>5.625477</td>\n",
       "      <td>1</td>\n",
       "    </tr>\n",
       "    <tr>\n",
       "      <th>4</th>\n",
       "      <td>5.286495</td>\n",
       "      <td>1</td>\n",
       "    </tr>\n",
       "  </tbody>\n",
       "</table>\n",
       "</div>"
      ],
      "text/plain": [
       "        num  group\n",
       "0  3.791373      1\n",
       "1  6.695849      1\n",
       "2  8.380088      1\n",
       "3  5.625477      1\n",
       "4  5.286495      1"
      ]
     },
     "execution_count": 5,
     "metadata": {},
     "output_type": "execute_result"
    }
   ],
   "source": [
    "arr = np.array(arr)\n",
    "df = pd.DataFrame(data=arr, columns=['num', 'group'])\n",
    "df[\"group\"] = df[\"group\"].astype(int)\n",
    "df.head()"
   ]
  },
  {
   "cell_type": "markdown",
   "metadata": {},
   "source": [
    "# Does population have an effect on the mean?"
   ]
  },
  {
   "cell_type": "markdown",
   "metadata": {},
   "source": [
    "# Step 0: Investigate"
   ]
  },
  {
   "cell_type": "code",
   "execution_count": 7,
   "metadata": {},
   "outputs": [],
   "source": [
    "def make_dist(arr, bins=20, color='r', alpha=0.8):\n",
    "    plt.figure(figsize=(8, 5))\n",
    "    plt.grid(zorder=0)\n",
    "    plt.hist(arr, bins=bins, color=color, alpha=alpha, zorder=2)\n",
    "    plt.show()"
   ]
  },
  {
   "cell_type": "code",
   "execution_count": 8,
   "metadata": {},
   "outputs": [
    {
     "data": {
      "image/png": "[encoded data removed]",
      "text/plain": [
       "<Figure size 576x360 with 1 Axes>"
      ]
     },
     "metadata": {
      "needs_background": "light"
     },
     "output_type": "display_data"
    },
    {
     "data": {
      "image/png": "[encoded data removed]",
      "text/plain": [
       "<Figure size 576x360 with 1 Axes>"
      ]
     },
     "metadata": {
      "needs_background": "light"
     },
     "output_type": "display_data"
    },
    {
     "data": {
      "image/png": "[encoded data removed]",
      "text/plain": [
       "<Figure size 576x360 with 1 Axes>"
      ]
     },
     "metadata": {
      "needs_background": "light"
     },
     "output_type": "display_data"
    }
   ],
   "source": [
    "make_dist(pop1)\n",
    "make_dist(pop2)\n",
    "make_dist(pop3)"
   ]
  },
  {
   "cell_type": "code",
   "execution_count": 9,
   "metadata": {},
   "outputs": [
    {
     "data": {
      "text/plain": [
       "(7.075789316316321, 7.149124203349705)"
      ]
     },
     "execution_count": 9,
     "metadata": {},
     "output_type": "execute_result"
    }
   ],
   "source": [
    "pop1.mean(), pop2.mean()"
   ]
  },
  {
   "cell_type": "markdown",
   "metadata": {},
   "source": [
    "# Step 1: State Hypothesis\n",
    "\n",
    "**In the project, an example would be, \n",
    "\n",
    "H0: $\\mu_1 = \\mu_2$\n",
    "\n",
    "HA: "
   ]
  },
  {
   "cell_type": "markdown",
   "metadata": {},
   "source": [
    "### Assessment"
   ]
  },
  {
   "cell_type": "code",
   "execution_count": 13,
   "metadata": {},
   "outputs": [
    {
     "data": {
      "image/png": "[encoded data removed]",
      "text/plain": [
       "<Figure size 576x360 with 1 Axes>"
      ]
     },
     "metadata": {
      "needs_background": "light"
     },
     "output_type": "display_data"
    }
   ],
   "source": [
    "fig = plt.figure(figsize=(8, 5))\n",
    "plt.grid(zorder=0)\n",
    "plt.hist(pop1, bins=20, color='r', alpha=0.8, zorder=2)\n",
    "plt.title(\"Population 1 Distribution\")\n",
    "plt.show()"
   ]
  },
  {
   "cell_type": "code",
   "execution_count": 14,
   "metadata": {},
   "outputs": [],
   "source": [
    "fig.savefig(\"./images/pop1dist.png\", transparent=True)"
   ]
  },
  {
   "cell_type": "code",
   "execution_count": null,
   "metadata": {},
   "outputs": [],
   "source": []
  }
 ],
 "metadata": {
  "kernelspec": {
   "display_name": "Python 3",
   "language": "python",
   "name": "python3"
  },
  "language_info": {
   "codemirror_mode": {
    "name": "ipython",
    "version": 3
   },
   "file_extension": ".py",
   "mimetype": "text/x-python",
   "name": "python",
   "nbconvert_exporter": "python",
   "pygments_lexer": "ipython3",
   "version": "3.7.3"
  }
 },
 "nbformat": 4,
 "nbformat_minor": 2
}
